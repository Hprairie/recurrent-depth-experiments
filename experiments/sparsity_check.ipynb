{
 "cells": [
  {
   "cell_type": "code",
   "execution_count": 3,
   "id": "5d57d010",
   "metadata": {},
   "outputs": [],
   "source": [
    "from recdep.utils.load_utils import load_model_and_tokenizer"
   ]
  },
  {
   "cell_type": "code",
   "execution_count": null,
   "id": "93e454ed",
   "metadata": {},
   "outputs": [],
   "source": [
    "\n",
    "model, tokenizer = load_model_and_tokenizer(\"tomg-group-umd\", \"huginn-0125\")"
   ]
  }
 ],
 "metadata": {
  "kernelspec": {
   "display_name": "rec-dep",
   "language": "python",
   "name": "python3"
  },
  "language_info": {
   "codemirror_mode": {
    "name": "ipython",
    "version": 3
   },
   "file_extension": ".py",
   "mimetype": "text/x-python",
   "name": "python",
   "nbconvert_exporter": "python",
   "pygments_lexer": "ipython3",
   "version": "3.12.11"
  }
 },
 "nbformat": 4,
 "nbformat_minor": 5
}
